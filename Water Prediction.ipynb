{
 "cells": [
  {
   "cell_type": "code",
   "execution_count": 145,
   "metadata": {},
   "outputs": [],
   "source": [
    "import numpy as np\n",
    "import pandas as pd\n",
    "import tensorflow as tf\n",
    "from tensorflow.python.framework import ops"
   ]
  },
  {
   "cell_type": "code",
   "execution_count": 146,
   "metadata": {},
   "outputs": [
    {
     "data": {
      "text/html": [
       "<div>\n",
       "<style>\n",
       "    .dataframe thead tr:only-child th {\n",
       "        text-align: right;\n",
       "    }\n",
       "\n",
       "    .dataframe thead th {\n",
       "        text-align: left;\n",
       "    }\n",
       "\n",
       "    .dataframe tbody tr th {\n",
       "        vertical-align: top;\n",
       "    }\n",
       "</style>\n",
       "<table border=\"1\" class=\"dataframe\">\n",
       "  <thead>\n",
       "    <tr style=\"text-align: right;\">\n",
       "      <th></th>\n",
       "      <th>Occupation</th>\n",
       "      <th>Infants</th>\n",
       "      <th>Kids</th>\n",
       "      <th>Adults</th>\n",
       "      <th>Seniors</th>\n",
       "      <th>Normal Need</th>\n",
       "      <th>Clean Need</th>\n",
       "    </tr>\n",
       "  </thead>\n",
       "  <tbody>\n",
       "    <tr>\n",
       "      <th>0</th>\n",
       "      <td>0</td>\n",
       "      <td>0</td>\n",
       "      <td>0</td>\n",
       "      <td>2</td>\n",
       "      <td>0</td>\n",
       "      <td>12</td>\n",
       "      <td>13</td>\n",
       "    </tr>\n",
       "    <tr>\n",
       "      <th>1</th>\n",
       "      <td>0</td>\n",
       "      <td>0</td>\n",
       "      <td>2</td>\n",
       "      <td>2</td>\n",
       "      <td>2</td>\n",
       "      <td>37</td>\n",
       "      <td>40</td>\n",
       "    </tr>\n",
       "    <tr>\n",
       "      <th>2</th>\n",
       "      <td>0</td>\n",
       "      <td>0</td>\n",
       "      <td>1</td>\n",
       "      <td>2</td>\n",
       "      <td>0</td>\n",
       "      <td>19</td>\n",
       "      <td>16</td>\n",
       "    </tr>\n",
       "    <tr>\n",
       "      <th>3</th>\n",
       "      <td>0</td>\n",
       "      <td>0</td>\n",
       "      <td>2</td>\n",
       "      <td>2</td>\n",
       "      <td>1</td>\n",
       "      <td>35</td>\n",
       "      <td>30</td>\n",
       "    </tr>\n",
       "    <tr>\n",
       "      <th>4</th>\n",
       "      <td>0</td>\n",
       "      <td>0</td>\n",
       "      <td>1</td>\n",
       "      <td>2</td>\n",
       "      <td>1</td>\n",
       "      <td>23</td>\n",
       "      <td>25</td>\n",
       "    </tr>\n",
       "    <tr>\n",
       "      <th>5</th>\n",
       "      <td>0</td>\n",
       "      <td>0</td>\n",
       "      <td>1</td>\n",
       "      <td>2</td>\n",
       "      <td>0</td>\n",
       "      <td>15</td>\n",
       "      <td>13</td>\n",
       "    </tr>\n",
       "    <tr>\n",
       "      <th>6</th>\n",
       "      <td>1</td>\n",
       "      <td>1</td>\n",
       "      <td>2</td>\n",
       "      <td>2</td>\n",
       "      <td>1</td>\n",
       "      <td>45</td>\n",
       "      <td>50</td>\n",
       "    </tr>\n",
       "    <tr>\n",
       "      <th>7</th>\n",
       "      <td>1</td>\n",
       "      <td>0</td>\n",
       "      <td>2</td>\n",
       "      <td>2</td>\n",
       "      <td>0</td>\n",
       "      <td>35</td>\n",
       "      <td>35</td>\n",
       "    </tr>\n",
       "    <tr>\n",
       "      <th>8</th>\n",
       "      <td>1</td>\n",
       "      <td>0</td>\n",
       "      <td>0</td>\n",
       "      <td>2</td>\n",
       "      <td>0</td>\n",
       "      <td>22</td>\n",
       "      <td>20</td>\n",
       "    </tr>\n",
       "    <tr>\n",
       "      <th>9</th>\n",
       "      <td>1</td>\n",
       "      <td>1</td>\n",
       "      <td>3</td>\n",
       "      <td>2</td>\n",
       "      <td>0</td>\n",
       "      <td>45</td>\n",
       "      <td>60</td>\n",
       "    </tr>\n",
       "  </tbody>\n",
       "</table>\n",
       "</div>"
      ],
      "text/plain": [
       "   Occupation  Infants  Kids  Adults  Seniors  Normal Need  Clean Need\n",
       "0           0        0     0       2        0           12          13\n",
       "1           0        0     2       2        2           37          40\n",
       "2           0        0     1       2        0           19          16\n",
       "3           0        0     2       2        1           35          30\n",
       "4           0        0     1       2        1           23          25\n",
       "5           0        0     1       2        0           15          13\n",
       "6           1        1     2       2        1           45          50\n",
       "7           1        0     2       2        0           35          35\n",
       "8           1        0     0       2        0           22          20\n",
       "9           1        1     3       2        0           45          60"
      ]
     },
     "execution_count": 146,
     "metadata": {},
     "output_type": "execute_result"
    }
   ],
   "source": [
    "df = pd.read_csv('data.csv')\n",
    "df"
   ]
  },
  {
   "cell_type": "code",
   "execution_count": 147,
   "metadata": {},
   "outputs": [
    {
     "data": {
      "text/plain": [
       "(5, 10)"
      ]
     },
     "execution_count": 147,
     "metadata": {},
     "output_type": "execute_result"
    }
   ],
   "source": [
    "X =  np.array(df.iloc[:, :-2]).astype(float)\n",
    "X.T.shape"
   ]
  },
  {
   "cell_type": "code",
   "execution_count": 148,
   "metadata": {},
   "outputs": [
    {
     "data": {
      "text/plain": [
       "(5, 10)"
      ]
     },
     "execution_count": 148,
     "metadata": {},
     "output_type": "execute_result"
    }
   ],
   "source": [
    "X = X.T\n",
    "X.shape"
   ]
  },
  {
   "cell_type": "code",
   "execution_count": 149,
   "metadata": {
    "collapsed": true
   },
   "outputs": [],
   "source": [
    "Y_clean = np.array(df.iloc[:, -1]).astype(float)\n",
    "Y_normal = np.array(df.iloc[:, -2]).astype(float)\n",
    "Y_clean = Y_clean.T\n",
    "Y_normal = Y_normal.T"
   ]
  },
  {
   "cell_type": "code",
   "execution_count": 150,
   "metadata": {},
   "outputs": [
    {
     "name": "stdout",
     "output_type": "stream",
     "text": [
      "[[13. 40. 16. 30. 25. 13. 50. 35. 20. 60.]]\n",
      "[[12. 37. 19. 35. 23. 15. 45. 35. 22. 45.]]\n"
     ]
    }
   ],
   "source": [
    "Y_clean = Y_clean.reshape(1, Y_clean.shape[0])\n",
    "Y_normal = Y_normal.reshape(1, Y_normal.shape[0])\n",
    "print(Y_clean)\n",
    "print(Y_normal)"
   ]
  },
  {
   "cell_type": "code",
   "execution_count": 151,
   "metadata": {},
   "outputs": [
    {
     "name": "stdout",
     "output_type": "stream",
     "text": [
      "[[7. 7. 7. 7. 7.]]\n",
      "[[15. 15.  8.  5. 12.]]\n"
     ]
    }
   ],
   "source": [
    "W_clean = np.array([[7, 7, 7, 7, 7]]).astype(float)\n",
    "W_normal = np.array([[15, 15, 8, 5, 12]]).astype(float)\n",
    "print(W_clean)\n",
    "print(W_normal)"
   ]
  },
  {
   "cell_type": "code",
   "execution_count": 152,
   "metadata": {},
   "outputs": [
    {
     "name": "stdout",
     "output_type": "stream",
     "text": [
      "[[14. 42. 21. 35. 28. 21. 49. 35. 21. 49.]]\n",
      "[[13. 40. 16. 30. 25. 13. 50. 35. 20. 60.]]\n",
      "[[10. 50. 18. 38. 30. 18. 68. 41. 25. 64.]]\n",
      "[[12. 37. 19. 35. 23. 15. 45. 35. 22. 45.]]\n"
     ]
    }
   ],
   "source": [
    "Z_clean = np.dot(W_clean, X)\n",
    "Z_normal = np.dot(W_normal, X)\n",
    "print(Z_clean)\n",
    "print(Y_clean)\n",
    "print(Z_normal)\n",
    "print(Y_normal)"
   ]
  },
  {
   "cell_type": "code",
   "execution_count": 153,
   "metadata": {},
   "outputs": [
    {
     "name": "stdout",
     "output_type": "stream",
     "text": [
      "25.1\n",
      "117.6\n"
     ]
    }
   ],
   "source": [
    "cost_clean = np.sum((Y_clean - Z_clean) ** 2) / Y_clean.shape[1]\n",
    "print(cost_clean)\n",
    "cost_normal = np.sum((Y_normal - Z_normal) ** 2) / Y_normal.shape[1]\n",
    "print(cost_normal)"
   ]
  },
  {
   "cell_type": "code",
   "execution_count": 154,
   "metadata": {},
   "outputs": [
    {
     "name": "stdout",
     "output_type": "stream",
     "text": [
      "[[7. 7. 7. 7. 7.]]\n",
      "[[15. 15.  8.  5. 12.]]\n"
     ]
    }
   ],
   "source": [
    "A_clean = tf.Variable(W_clean)\n",
    "A_normal = tf.Variable(W_normal)\n",
    "init = tf.global_variables_initializer()\n",
    "sess = tf.Session()\n",
    "sess.run(init)\n",
    "print(sess.run(A_clean))\n",
    "print(sess.run(A_normal))"
   ]
  },
  {
   "cell_type": "code",
   "execution_count": 155,
   "metadata": {
    "collapsed": true
   },
   "outputs": [],
   "source": [
    "data = tf.placeholder(dtype = tf.float64, shape = X.shape)\n",
    "target_clean = tf.placeholder(dtype = tf.float64, shape = Y_clean.shape)\n",
    "target_normal = tf.placeholder(dtype = tf.float64, shape = Y_normal.shape)"
   ]
  },
  {
   "cell_type": "code",
   "execution_count": 156,
   "metadata": {},
   "outputs": [
    {
     "name": "stdout",
     "output_type": "stream",
     "text": [
      "Tensor(\"MatMul_15:0\", shape=(1, 10), dtype=float64)\n",
      "Tensor(\"MatMul_16:0\", shape=(1, 10), dtype=float64)\n"
     ]
    }
   ],
   "source": [
    "mod_clean = tf.matmul(A_clean, data)\n",
    "print(mod_clean)\n",
    "mod_normal = tf.matmul(A_normal, data)\n",
    "print(mod_normal)"
   ]
  },
  {
   "cell_type": "code",
   "execution_count": 157,
   "metadata": {},
   "outputs": [],
   "source": [
    "loss_clean = tf.reduce_mean(tf.losses.mean_squared_error(labels = target_clean, predictions = mod_clean))\n",
    "loss_normal = tf.reduce_mean(tf.losses.mean_squared_error(labels = target_normal, predictions = mod_normal))"
   ]
  },
  {
   "cell_type": "code",
   "execution_count": 158,
   "metadata": {
    "collapsed": true
   },
   "outputs": [],
   "source": [
    "learning_rate_normal = 0.01\n",
    "learning_rate_clean = 0.01\n",
    "iter_num = 5000"
   ]
  },
  {
   "cell_type": "code",
   "execution_count": 159,
   "metadata": {
    "collapsed": true
   },
   "outputs": [],
   "source": [
    "optimizer_clean = tf.train.GradientDescentOptimizer(learning_rate_clean).minimize(loss_clean)\n",
    "optimizer_normal = tf.train.GradientDescentOptimizer(learning_rate_normal).minimize(loss_normal)"
   ]
  },
  {
   "cell_type": "code",
   "execution_count": 160,
   "metadata": {},
   "outputs": [
    {
     "name": "stdout",
     "output_type": "stream",
     "text": [
      "Clean:  24.673653\n",
      "Normal:  97.40403\n",
      "Clean:  7.9874544\n",
      "Normal:  4.556997\n",
      "Clean:  7.8202868\n",
      "Normal:  3.1204078\n",
      "Clean:  7.7879777\n",
      "Normal:  2.8354719\n",
      "Clean:  7.7784767\n",
      "Normal:  2.7511184\n",
      "Clean:  7.775403\n",
      "Normal:  2.7238324\n",
      "Clean:  7.774396\n",
      "Normal:  2.714878\n",
      "Clean:  7.7740684\n",
      "Normal:  2.711933\n",
      "Clean:  7.773955\n",
      "Normal:  2.710963\n",
      "Clean:  7.773922\n",
      "Normal:  2.710645\n"
     ]
    }
   ],
   "source": [
    "# Training\n",
    "for epoch in range(iter_num):\n",
    "    sess.run(optimizer_clean, feed_dict = {data: X, target_clean: Y_clean})\n",
    "    sess.run(optimizer_normal, feed_dict = {data: X, target_normal: Y_normal})\n",
    "    temp_loss_clean = sess.run(loss_clean, feed_dict = {data: X, target_clean: Y_clean})\n",
    "    temp_loss_normal = sess.run(loss_normal, feed_dict = {data: X, target_normal: Y_normal})\n",
    "    if epoch % 500 == 0:\n",
    "        print(\"Clean: \",temp_loss_clean)\n",
    "        print(\"Normal: \",temp_loss_normal)"
   ]
  },
  {
   "cell_type": "code",
   "execution_count": 162,
   "metadata": {},
   "outputs": [
    {
     "name": "stdout",
     "output_type": "stream",
     "text": [
      "[[ 9.31933147 37.85022067 17.32571407 31.59115867 23.58477607 17.32571407\n",
      "  54.12391518 35.5101677  19.49740249 55.87123579]]\n",
      "[[13. 40. 16. 30. 25. 13. 50. 35. 20. 60.]]\n",
      "[[14. 42. 21. 35. 28. 21. 49. 35. 21. 49.]]\n"
     ]
    }
   ],
   "source": [
    "\"\"\"\n",
    "CLEAN\n",
    "\"\"\"\n",
    "\n",
    "# Prediction\n",
    "print(sess.run(mod_clean, feed_dict = {data: X}))\n",
    "\n",
    "# Original Values\n",
    "print(Y_clean)\n",
    "\n",
    "# Starting predictions\n",
    "print(np.dot(W_clean, X))"
   ]
  },
  {
   "cell_type": "code",
   "execution_count": 163,
   "metadata": {},
   "outputs": [
    {
     "name": "stdout",
     "output_type": "stream",
     "text": [
      "[[10.93951812 38.08838897 17.96430068 31.53873611 24.51395355 17.96430068\n",
      "  44.76966372 35.5134974  21.46393227 45.24479341]]\n",
      "[[12. 37. 19. 35. 23. 15. 45. 35. 22. 45.]]\n",
      "[[10. 50. 18. 38. 30. 18. 68. 41. 25. 64.]]\n"
     ]
    }
   ],
   "source": [
    "\"\"\"\n",
    "NORMAL\n",
    "\"\"\"\n",
    "\n",
    "# Prediction\n",
    "print(sess.run(mod_normal, feed_dict = {data: X}))\n",
    "\n",
    "# Original Values\n",
    "print(Y_normal)\n",
    "\n",
    "# Starting predictions\n",
    "print(np.dot(W_normal, X))"
   ]
  },
  {
   "cell_type": "code",
   "execution_count": 166,
   "metadata": {},
   "outputs": [
    {
     "name": "stdout",
     "output_type": "stream",
     "text": [
      "[[10.17807103 12.35468548  8.0063826   4.65966573  6.259062  ]]\n",
      "[[7. 7. 7. 7. 7.]]\n"
     ]
    }
   ],
   "source": [
    "\"\"\" CLEAN \"\"\"\n",
    "# Final Weights \n",
    "print(sess.run(A_clean))\n",
    "\n",
    "# Initial Weights\n",
    "print(W_clean)"
   ]
  },
  {
   "cell_type": "code",
   "execution_count": 167,
   "metadata": {},
   "outputs": [
    {
     "name": "stdout",
     "output_type": "stream",
     "text": [
      "[[10.52441416  2.70651346  7.02478256  5.46975906  6.54965287]]\n",
      "[[15. 15.  8.  5. 12.]]\n"
     ]
    }
   ],
   "source": [
    "\"\"\" NORMAL \"\"\"\n",
    "# Final Weights \n",
    "print(sess.run(A_normal))\n",
    "\n",
    "# Initial Weights\n",
    "print(W_normal)"
   ]
  },
  {
   "cell_type": "code",
   "execution_count": null,
   "metadata": {
    "collapsed": true
   },
   "outputs": [],
   "source": []
  }
 ],
 "metadata": {
  "kernelspec": {
   "display_name": "Python 3",
   "language": "python",
   "name": "python3"
  },
  "language_info": {
   "codemirror_mode": {
    "name": "ipython",
    "version": 3
   },
   "file_extension": ".py",
   "mimetype": "text/x-python",
   "name": "python",
   "nbconvert_exporter": "python",
   "pygments_lexer": "ipython3",
   "version": "3.6.1"
  }
 },
 "nbformat": 4,
 "nbformat_minor": 2
}
